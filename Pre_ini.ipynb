{
 "cells": [
  {
   "cell_type": "code",
   "execution_count": 0,
   "metadata": {
    "colab": {},
    "colab_type": "code",
    "id": "if1-FK9vIPHi"
   },
   "outputs": [],
   "source": [
    "!sudo pip install --upgrade pymorphy2-dicts\n",
    "!sudo pip install --upgrade DAWG-Python\n",
    "!sudo pip install --upgrade pymorphy2[fast]"
   ]
  },
  {
   "cell_type": "code",
   "execution_count": 0,
   "metadata": {
    "colab": {},
    "colab_type": "code",
    "id": "QUJ9Njl7IYgi"
   },
   "outputs": [],
   "source": [
    "import pymorphy2\n",
    "morph = pymorphy2.MorphAnalyzer()\n",
    "morph.parse('лучший')[0].normal_form\n",
    "cash=dict()"
   ]
  },
  {
   "cell_type": "code",
   "execution_count": 0,
   "metadata": {
    "colab": {},
    "colab_type": "code",
    "id": "BTwG47dYIxez"
   },
   "outputs": [],
   "source": [
    "!sudo pip install --upgrade nltk"
   ]
  },
  {
   "cell_type": "code",
   "execution_count": 0,
   "metadata": {
    "colab": {},
    "colab_type": "code",
    "id": "5E6fiIdFIbDH"
   },
   "outputs": [],
   "source": [
    "import nltk\n",
    "nltk.download('stopwords')\n",
    "\n",
    "from nltk.corpus import stopwords as stpw\n",
    "stopwords=set(stpw.words())"
   ]
  },
  {
   "cell_type": "code",
   "execution_count": 0,
   "metadata": {
    "colab": {},
    "colab_type": "code",
    "id": "VGlWt-VmIclY"
   },
   "outputs": [],
   "source": [
    "from collections import defaultdict,namedtuple\n",
    "from functools import reduce\n",
    "from zipfile import ZipFile\n",
    "from math import log\n",
    "import heapq\n",
    "import numpy as np\n",
    "\n",
    "\n",
    "import pickle\n",
    "from time import time"
   ]
  },
  {
   "cell_type": "code",
   "execution_count": 0,
   "metadata": {
    "colab": {},
    "colab_type": "code",
    "id": "mMGq8AgIIefT"
   },
   "outputs": [],
   "source": [
    "def add_cash(word):\n",
    "    if word not in cash:\n",
    "        cash[word]=morph.parse(word)[0].normal_form\n",
    "    return cash[word]\n",
    "        \n",
    "def process_string_lem(s):\n",
    "    return ' '.join(map(add_cash,s.split()))\n",
    "      \n",
    "def string_lem(s):\n",
    "    return process_string_lem(process_string(s))  \n",
    "\n",
    "def process_string(s):\n",
    "    return ''.join(map(lambda x:x.lower() if x.isalpha() or x.isdigit()\n",
    "                                else ' ' if x not in set(['.','!','?','\\n'])\n",
    "                                else '.',s)) "
   ]
  },
  {
   "cell_type": "code",
   "execution_count": 0,
   "metadata": {
    "colab": {},
    "colab_type": "code",
    "id": "UY6Dz3l1IiFK"
   },
   "outputs": [],
   "source": [
    "def generate_candidates():\n",
    "    with open('sample.technosphere.ir1.textrelevance.submission.txt','r') as f:\n",
    "        f.readline()\n",
    "        candidates=defaultdict(list)\n",
    "        reverse_candidates=defaultdict(list)\n",
    "        for line in f:\n",
    "            query_id,doc_id=list(map(int,line.strip().split(',')))\n",
    "            candidates[query_id].append(doc_id)\n",
    "            reverse_candidates[doc_id].append(query_id)\n",
    "        return candidates,reverse_candidates\n",
    "\n",
    "candidates,reverse_candidates=generate_candidates()"
   ]
  },
  {
   "cell_type": "code",
   "execution_count": 0,
   "metadata": {
    "colab": {},
    "colab_type": "code",
    "id": "OeAiczdIIji1"
   },
   "outputs": [],
   "source": [
    "get_query=dict()\n",
    "get_query_id=dict()\n",
    "with open('queries.fixed.txt') as f:\n",
    "    for line in f:\n",
    "        query_id,words=line.split('\\t')\n",
    "        get_query[int(query_id)]=process_string(words).strip('\\n').replace('.',' ')\n",
    "        get_query_id[get_query[int(query_id)]]=int(query_id)"
   ]
  }
 ],
 "metadata": {
  "colab": {
   "name": "Pre_ini.ipynb",
   "provenance": []
  },
  "kernelspec": {
   "display_name": "Python 3",
   "language": "python",
   "name": "python3"
  },
  "language_info": {
   "codemirror_mode": {
    "name": "ipython",
    "version": 3
   },
   "file_extension": ".py",
   "mimetype": "text/x-python",
   "name": "python",
   "nbconvert_exporter": "python",
   "pygments_lexer": "ipython3",
   "version": "3.7.3"
  }
 },
 "nbformat": 4,
 "nbformat_minor": 1
}
