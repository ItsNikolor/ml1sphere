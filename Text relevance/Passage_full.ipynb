{
 "cells": [
  {
   "cell_type": "code",
   "execution_count": 0,
   "metadata": {
    "colab": {},
    "colab_type": "code",
    "id": "Y4evlUCJs_yD"
   },
   "outputs": [],
   "source": [
    "def build_w(query_id):\n",
    "    ans=defaultdict(float)\n",
    "    t=query_ext[query_id]\n",
    "    s=sum(map(lambda x:x[0]*x[0],t[:15]))\n",
    "    s1=sum(map(lambda x:x[0]*x[0],t[:5]))\n",
    "    s2=sum(map(lambda x:x[0]*x[0],t[5:10]))\n",
    "    s3=sum(map(lambda x:x[0]*x[0],t[10:15]))\n",
    "    v1=s1/s\n",
    "    v2=s2/s\n",
    "    v3=s3/s\n",
    "\n",
    "    for w,word in t[:5]:\n",
    "        ans[word]=w*w/s1+v1\n",
    "    for w,word in t[5:10]:\n",
    "        ans[word]=w*w/s2+v2\n",
    "    for w,word in t[10:15]:\n",
    "        ans[word]=w*w/s3+v3\n",
    "    \n",
    "    low=t[15][0]*t[15][0]/s3+v3\n",
    "    for w,word in t[15:]:\n",
    "        ans[word]=low\n",
    "    \n",
    "    for word in set(map(lambda word:add_cash(word),\n",
    "                        get_query[query_id].split())):\n",
    "        ans[word]=max(1,ans[word]+1)\n",
    "    \n",
    "    N=len(get_id)\n",
    "    idf=0\n",
    "    for word in ans:\n",
    "        idf+=RIDF(word,N,0,0.5,2)*ans[word]\n",
    "    return ans,idf"
   ]
  },
  {
   "cell_type": "code",
   "execution_count": 0,
   "metadata": {
    "colab": {},
    "colab_type": "code",
    "id": "DQjV88AstNoM"
   },
   "outputs": [],
   "source": [
    "def group_by_doc(l,w):\n",
    "    w_bert=[1,0.8,0.7,0.6,0.5]\n",
    "    w_idf =[1,0.8,0.7,0.6,0.5]\n",
    "\n",
    "    W=defaultdict(lambda:defaultdict(float,w))\n",
    "\n",
    "    tmp=defaultdict(lambda :[[],0,0,0])\n",
    "\n",
    "    for x in l:\n",
    "        new_w=W[x.doc_id]\n",
    "        t=tmp[x.doc_id]\n",
    "\n",
    "        while len(t[0])>=len(w_bert):\n",
    "            w_bert.append(w_bert[-1]/2)\n",
    "        while len(t[0])>=len(w_idf):\n",
    "            w_idf.append(w_idf[-1]/2)\n",
    "\n",
    "        c_bert=w_bert[len(t[0])]\n",
    "        c_idf=w_idf[len(t[0])]\n",
    "\n",
    "        t[0].append(x.sent)\n",
    "        heap=[(0,'')]*3\n",
    "        for word in set(map(add_cash,x.sent.split())):\n",
    "            heapq.heappushpop(heap,(RIDF(word,len(get_id),0,0.5,2)*new_w[word],word))\n",
    "        idf=reduce(lambda x,y:x+y[0],heap,0)\n",
    "        for _,word in heap:\n",
    "            new_w[word]/=2.25\n",
    "\n",
    "\n",
    "        t[1]+=x.score_bert*c_bert\n",
    "        t[2]+=x.pos*c_bert\n",
    "        t[3]+=idf*c_idf\n",
    "    \n",
    "    ans=[Passage_idf(t[0],t[1],t[2],doc_id,t[3]) \n",
    "    for doc_id,t in tmp.items()]\n",
    "\n",
    "    return ans"
   ]
  },
  {
   "cell_type": "code",
   "execution_count": 0,
   "metadata": {
    "colab": {},
    "colab_type": "code",
    "id": "o4US9kxdtPse"
   },
   "outputs": [],
   "source": [
    "def st(tmp):\n",
    "    t=np.array([x.score_bert for x in tmp])\n",
    "    std=np.std(t)\n",
    "    mean=np.mean(t)\n",
    "    tmp=[Passage_idf(x.sent,y,x.pos,x.doc_id,x.score_idf) for x,y in zip(tmp,(t-mean)/std)]\n",
    "\n",
    "    t=np.array([x.score_idf for x in tmp])\n",
    "    std=np.std(t)\n",
    "    mean=np.mean(t)\n",
    "    tmp=[Passage_idf(x.sent,x.score_bert,x.pos,x.doc_id,y) for x,y in zip(tmp,(t-mean)/std)]\n",
    "\n",
    "    min_bert=reduce(lambda x,y:min(x,y.score_bert),tmp,1000)\n",
    "    min_idf=reduce(lambda x,y:min(x,y.score_idf),tmp,1000)\n",
    "    tmp=[Passage_idf(x.sent,x.score_bert-min_bert,x.pos,x.doc_id,x.score_idf-min_idf) for x in tmp]\n",
    "\n",
    "    return tmp"
   ]
  },
  {
   "cell_type": "code",
   "execution_count": 0,
   "metadata": {
    "colab": {},
    "colab_type": "code",
    "id": "Z3MecQhatWjd"
   },
   "outputs": [],
   "source": [
    "def comp_idf(sent,w):\n",
    "    words=set(map(lambda word:add_cash(word),\n",
    "                  sent.split()))\n",
    "    heap=[-1]*3\n",
    "    for word in words:\n",
    "        heapq.heappushpop(heap,RIDF(word,len(get_id),0,0.5,2)*w[word])\n",
    "    return sum(heap)"
   ]
  },
  {
   "cell_type": "code",
   "execution_count": 0,
   "metadata": {
    "colab": {},
    "colab_type": "code",
    "id": "PtUBMd62tW8_"
   },
   "outputs": [],
   "source": [
    "def RIDF(word,N,R,k,l):\n",
    "    n=IDF_lem[word]\n",
    "    if R:\n",
    "        r=r_counter[word]\n",
    "        return log(1 + (r+k)*(N-n-R+r+k)/(n-r+k)/(R-r+k))\n",
    "    else:\n",
    "        if n==0:\n",
    "            return 0\n",
    "        return log(l+(N-n)/n)"
   ]
  },
  {
   "cell_type": "code",
   "execution_count": 0,
   "metadata": {
    "colab": {},
    "colab_type": "code",
    "id": "aZOJ3a6StIjA"
   },
   "outputs": [],
   "source": [
    "Passage_idf=namedtuple('Passage_idf',['sent','score_bert','pos','doc_id','score_idf'])\n",
    "def full(query_id,all_scores):\n",
    "    tmp=all_scores[query_id]\n",
    "\n",
    "    w,_=build_w(query_id)\n",
    "    tmp=list(map(lambda x:Passage_idf(*x,comp_idf(x.sent,w)),tmp))\n",
    "\n",
    "    \n",
    "    tmp=st(tmp)\n",
    "\n",
    "    tmp=group_by_doc(sorted(tmp,key=lambda x:-1/(1/(x.score_bert+1e-5) + 1/(x.score_idf +1e-5))-0.15*x.pos),w)\n",
    "    tmp=st(tmp)\n",
    "    return tmp"
   ]
  }
 ],
 "metadata": {
  "colab": {
   "collapsed_sections": [],
   "name": "Passage_full.ipynb",
   "provenance": []
  },
  "kernelspec": {
   "display_name": "Python 3",
   "language": "python",
   "name": "python3"
  },
  "language_info": {
   "codemirror_mode": {
    "name": "ipython",
    "version": 3
   },
   "file_extension": ".py",
   "mimetype": "text/x-python",
   "name": "python",
   "nbconvert_exporter": "python",
   "pygments_lexer": "ipython3",
   "version": "3.7.3"
  }
 },
 "nbformat": 4,
 "nbformat_minor": 1
}
