{
 "cells": [
  {
   "cell_type": "code",
   "execution_count": null,
   "metadata": {},
   "outputs": [],
   "source": [
    "syn=dict()\n",
    "all_query=set()\n",
    "for query_id in range(1,400):\n",
    "    for word in get_query[query_id].split():\n",
    "        word = add_cash(word)\n",
    "        if word in stopwords or word.isnumeric():\n",
    "            continue\n",
    "        all_query.add(word)"
   ]
  },
  {
   "cell_type": "code",
   "execution_count": null,
   "metadata": {},
   "outputs": [],
   "source": [
    "s2=[\"спасибо\",\"код\",\"нужно\",\"самостоятельно\",\"татуаж\",\"дорога\",\"чужое\",\"черви\",\"недалеко\",\"лада\",\"очки\",\"ошибочно\",]\n",
    "d=[\"ростов\",\"сила\",\"звонок\",\"чек\",\"пристав\",\"шпор\",\"чай\",\"зубной\",\"потолок\",\"статистика\",\"стекло\",\"чёрный\",\"бочка\",\"весь\",\n",
    " \"мир\",\"любимый\",\"вод\",\"быстро\",\"пол\",\"сыр\",\"прошлое\",\"день\"]"
   ]
  },
  {
   "cell_type": "code",
   "execution_count": null,
   "metadata": {},
   "outputs": [],
   "source": [
    "#!/usr/bin/env python\n",
    "\n",
    "import json\n",
    "import requests\n",
    "\n",
    "# 1. Get your authentication token\n",
    "# by posting username and password to the server\n",
    "\n",
    "r = requests.post('http://paraphraser.ru/token/',\n",
    "                  data={'login': 'usr', 'password': 'pass'}) # Insert login and password here\n",
    "token = r.json().get('token', '')\n",
    "\n",
    "# 2. Make a request using the obtained token\n",
    "\n",
    "i=0\n",
    "for word in all_query:\n",
    "    if word in d:\n",
    "        continue\n",
    "    payload = {'c': 'syns',\n",
    "            'query': word,\n",
    "            'top': 3,\n",
    "            'scores': 0,\n",
    "            'forms': 0,\n",
    "            'format': 'json',\n",
    "            'lang': 'ru',\n",
    "            'token': token}\n",
    "\n",
    "    r = requests.post('http://paraphraser.ru/api/',\n",
    "                    data=payload)\n",
    "    result = r.json()\n",
    "\n",
    "\n",
    "    if result['code'] == 0:\n",
    "        response = result['response']\n",
    "        if word in s2:\n",
    "            item='2'\n",
    "        else:\n",
    "            item='1'\n",
    "        syn[word]=response[item]['syns']\n",
    "    else:\n",
    "        print('Error:', result['msg'])\n",
    "    i+=1\n",
    "    print(i)"
   ]
  },
  {
   "cell_type": "code",
   "execution_count": null,
   "metadata": {},
   "outputs": [],
   "source": [
    "syn['энджин']=['engine']\n",
    "syn['герой']=['heroes']\n",
    "syn['кс']=['counter','strike']\n",
    "\n",
    "syn['страёк']=['strike','страйк']\n",
    "syn['английски']=['english']\n",
    "syn['фай']=['wifi']\n",
    "syn['вивьен']=['vivien']\n",
    "syn['супергерл']=['super','girl']\n",
    "syn['трейнза']=['trainz']\n",
    "syn['бокс']=['xbox']\n",
    "syn['спб']=['санкт',\"питер\"]"
   ]
  },
  {
   "cell_type": "code",
   "execution_count": null,
   "metadata": {},
   "outputs": [],
   "source": [
    "for key in syn:\n",
    "    tmp=set(filter(lambda word: word != key,\n",
    "                    map(add_cash,\n",
    "                        filter(lambda string:all([c.isalpha() for c in string]),\n",
    "                               syn[key]))))"
   ]
  },
  {
   "cell_type": "code",
   "execution_count": null,
   "metadata": {},
   "outputs": [],
   "source": [
    "import pickle\n",
    "with open('syn.pickle','wb') as f:\n",
    "    pickle.dump(syn,f)"
   ]
  }
 ],
 "metadata": {
  "kernelspec": {
   "display_name": "Python 3",
   "language": "python",
   "name": "python3"
  },
  "language_info": {
   "codemirror_mode": {
    "name": "ipython",
    "version": 3
   },
   "file_extension": ".py",
   "mimetype": "text/x-python",
   "name": "python",
   "nbconvert_exporter": "python",
   "pygments_lexer": "ipython3",
   "version": "3.7.3"
  }
 },
 "nbformat": 4,
 "nbformat_minor": 2
}
