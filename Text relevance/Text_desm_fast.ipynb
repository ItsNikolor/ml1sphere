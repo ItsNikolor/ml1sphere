{
 "cells": [
  {
   "cell_type": "code",
   "execution_count": null,
   "metadata": {},
   "outputs": [],
   "source": [
    " #%run Pre_ini.ipynb"
   ]
  },
  {
   "cell_type": "code",
   "execution_count": null,
   "metadata": {},
   "outputs": [],
   "source": [
    "!sudo pip install --upgrade gensim\n",
    "import gensim"
   ]
  },
  {
   "cell_type": "code",
   "execution_count": null,
   "metadata": {},
   "outputs": [],
   "source": [
    "model=gensim.models.KeyedVectors.load(\"fast/model.model\")"
   ]
  },
  {
   "cell_type": "code",
   "execution_count": null,
   "metadata": {},
   "outputs": [],
   "source": [
    "ans=np.zeros((len(get_id)+1,300))\n",
    "with open('forward_docs.txt','r') as f:\n",
    "    i=0\n",
    "    beg=time()\n",
    "    for line in f:\n",
    "        words=line.strip('\\n').split('\\t')\n",
    "        doc_id=int(words[0])\n",
    "\n",
    "        words=list(filter(lambda word: word not in stopwords and word,map(add_cash,' '.join(words[1:]).replace('.' ,' ').split())))\n",
    "        if words:\n",
    "            words=words[:1000000]\n",
    "            x=model[words]\n",
    "            l=np.sqrt((x*x).sum(axis=1))\n",
    "            v=(x/l[...,None]).sum(axis=0)/x.shape[0]\n",
    "            ans[doc_id]=v\n",
    "        i+=1\n",
    "        if i%100==0:\n",
    "            print(i)\n",
    "    print((time()-beg)/i)"
   ]
  },
  {
   "cell_type": "code",
   "execution_count": null,
   "metadata": {},
   "outputs": [],
   "source": [
    "with open('desm_fast.npy','wb') as f:\n",
    "    np.save(f,ans)"
   ]
  }
 ],
 "metadata": {
  "kernelspec": {
   "display_name": "Python 3",
   "language": "python",
   "name": "python3"
  },
  "language_info": {
   "codemirror_mode": {
    "name": "ipython",
    "version": 3
   },
   "file_extension": ".py",
   "mimetype": "text/x-python",
   "name": "python",
   "nbconvert_exporter": "python",
   "pygments_lexer": "ipython3",
   "version": "3.7.3"
  }
 },
 "nbformat": 4,
 "nbformat_minor": 2
}
