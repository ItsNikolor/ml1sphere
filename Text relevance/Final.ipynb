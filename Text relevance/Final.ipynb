{
 "cells": [
  {
   "cell_type": "code",
   "execution_count": 0,
   "metadata": {
    "colab": {},
    "colab_type": "code",
    "id": "n-f1JpvCLPol"
   },
   "outputs": [],
   "source": [
    "%run Pre_ini"
   ]
  },
  {
   "cell_type": "code",
   "execution_count": null,
   "metadata": {},
   "outputs": [],
   "source": [
    "#%run Get_syn.ipynb"
   ]
  },
  {
   "cell_type": "code",
   "execution_count": null,
   "metadata": {},
   "outputs": [],
   "source": [
    "with open('syn.pickle','rb') as f:\n",
    "    syn=pickle.load(f)"
   ]
  },
  {
   "cell_type": "code",
   "execution_count": 0,
   "metadata": {
    "colab": {},
    "colab_type": "code",
    "id": "XAuSQfgbLezi"
   },
   "outputs": [],
   "source": [
    "%run Worker #This could take some time"
   ]
  },
  {
   "cell_type": "code",
   "execution_count": 0,
   "metadata": {
    "colab": {},
    "colab_type": "code",
    "id": "PD0kGqOiLj_5"
   },
   "outputs": [],
   "source": [
    "%run BM25F #This take about 16 gb RAM"
   ]
  },
  {
   "cell_type": "code",
   "execution_count": 0,
   "metadata": {
    "colab": {},
    "colab_type": "code",
    "id": "OXoykupFrh93"
   },
   "outputs": [],
   "source": [
    "with open('super_query_ext.pickle','rb') as f:\n",
    "    query_ext=pickle.load(f)\n",
    "\n",
    "with open('IDF_lem.pickle','rb') as f:\n",
    "    IDF_lem=pickle.load(f)"
   ]
  },
  {
   "cell_type": "code",
   "execution_count": null,
   "metadata": {},
   "outputs": [],
   "source": [
    "%run Text_passage #This could take forever"
   ]
  },
  {
   "cell_type": "code",
   "execution_count": 10,
   "metadata": {
    "colab": {
     "base_uri": "https://localhost:8080/",
     "height": 87
    },
    "colab_type": "code",
    "id": "Km3Bzi8vr12N",
    "outputId": "0f0b8e08-dc7b-4039-b64b-9d6cc3780edb"
   },
   "outputs": [
    {
     "name": "stdout",
     "output_type": "stream",
     "text": [
      "10039\n",
      "10161\n",
      "10210\n",
      "8362\n"
     ]
    }
   ],
   "source": [
    "all_scores=defaultdict(list)\n",
    "Passage=namedtuple('Passage',['sent','score_bert','pos','doc_id'])\n",
    "for file_name in ['divide_cos0.txt','divide_cos1.txt','divide_cos2.txt','divide_cos3.txt']:\n",
    "    with open(file_name,'r') as f:\n",
    "        i=0\n",
    "        for line in f:\n",
    "            lines=line.strip('\\n').split('\\t')\n",
    "            doc_id=lines[0]\n",
    "\n",
    "            query=lines[1]\n",
    "            lines=lines[2:]\n",
    "\n",
    "            query_id=get_query_id[query]\n",
    "            for line in lines:\n",
    "                sent,score,score_pos=line.split(',')\n",
    "                all_scores[query_id].append(Passage(sent,1-float(score),float(score_pos),int(doc_id)))\n",
    "            i+=1\n",
    "        print(i)"
   ]
  },
  {
   "cell_type": "code",
   "execution_count": 0,
   "metadata": {
    "colab": {},
    "colab_type": "code",
    "id": "ysWYhO3Rs8tu"
   },
   "outputs": [],
   "source": [
    "%run Passage_full.ipynb"
   ]
  },
  {
   "cell_type": "code",
   "execution_count": null,
   "metadata": {},
   "outputs": [],
   "source": [
    "#%run Text_desm_fast.ipynb #This could take forever"
   ]
  },
  {
   "cell_type": "code",
   "execution_count": null,
   "metadata": {},
   "outputs": [],
   "source": [
    "#%run Text_desm_word2vec.ipynb  #This could take even longer"
   ]
  },
  {
   "cell_type": "code",
   "execution_count": null,
   "metadata": {},
   "outputs": [],
   "source": [
    "%run DESM.ipynb"
   ]
  },
  {
   "cell_type": "code",
   "execution_count": 0,
   "metadata": {
    "colab": {},
    "colab_type": "code",
    "id": "HYTQhs9Gr6e7"
   },
   "outputs": [],
   "source": [
    "with open('queries.fixed.txt','r',encoding='utf-8-sig') as f:\n",
    "    with open('Passage.txt','w') as out:\n",
    "        i=0\n",
    "        for line in f:\n",
    "            query_id=line.strip('\\n').split('\\t')[0]\n",
    "            \n",
    "            tmp=full(int(query_id),all_scores)\n",
    "\n",
    "            out.write(query_id+'\\t')\n",
    "            for x in tmp:\n",
    "                doc_id=x.doc_id\n",
    "                score=1/(1/(x.score_bert+1e-5) + 1/(x.score_idf +1e-5))+0.15*x.pos\n",
    "                out.write(str(score)+','+str(doc_id))\n",
    "                out.write(' ')\n",
    "            out.write('\\n')\n",
    "            i+=1\n",
    "            print(i)"
   ]
  },
  {
   "cell_type": "code",
   "execution_count": 0,
   "metadata": {
    "colab": {},
    "colab_type": "code",
    "id": "qcfks687v_AG"
   },
   "outputs": [],
   "source": [
    "def get_bm():\n",
    "    with open('BM25.txt','r') as f:\n",
    "        ans=dict()\n",
    "        for line in f:\n",
    "            query_id,s=line.strip().split('\\t')\n",
    "            query_id=int(query_id)\n",
    "\n",
    "            score_bm=defaultdict(float)\n",
    "            for score in s.split():\n",
    "                score,doc_id=score.split(',')\n",
    "                score_bm[int(doc_id)]=float(score)\n",
    "            ans[query_id]=score_bm\n",
    "        return ans"
   ]
  },
  {
   "cell_type": "code",
   "execution_count": 0,
   "metadata": {
    "colab": {},
    "colab_type": "code",
    "id": "j-v7toNBwkWI"
   },
   "outputs": [],
   "source": [
    "def get_passage():\n",
    "    with open('Passage.txt','r') as f:\n",
    "        ans=dict()\n",
    "        for line in f:\n",
    "            query_id,s=line.strip().split('\\t')\n",
    "            query_id=int(query_id)\n",
    "\n",
    "            score_bm=defaultdict(float)\n",
    "            for score in s.split():\n",
    "                score,doc_id=score.split(',')\n",
    "                score_bm[int(doc_id)]=float(score)\n",
    "            ans[query_id]=score_bm\n",
    "        return ans"
   ]
  },
  {
   "cell_type": "code",
   "execution_count": 0,
   "metadata": {
    "colab": {},
    "colab_type": "code",
    "id": "WkGmFkNnzMSx"
   },
   "outputs": [],
   "source": [
    "def get_desm():\n",
    "    with open('Desm.txt','r') as f:\n",
    "        ans=dict()\n",
    "        for line in f:\n",
    "            query_id,s=line.strip().split('\\t')\n",
    "            query_id=int(query_id)\n",
    "\n",
    "            score_bm=defaultdict(float)\n",
    "            for score in s.split():\n",
    "                score,doc_id=score.split(',')\n",
    "                score_bm[int(doc_id)]=float(score)\n",
    "            ans[query_id]=score_bm\n",
    "        return ans"
   ]
  },
  {
   "cell_type": "code",
   "execution_count": 0,
   "metadata": {
    "colab": {},
    "colab_type": "code",
    "id": "zCWiwxIRsbvN"
   },
   "outputs": [],
   "source": [
    "bm_score=get_bm()\n",
    "passage_score=get_passage()\n",
    "desm_score=get_desm()\n",
    "\n",
    "ans='QueryId,DocumentId\\n'\n",
    "\n",
    "alpha1=0.00125\n",
    "alpha2=1\n",
    "alpha3=5\n",
    "\n",
    "for query_id in range(1,len(get_query)+1):\n",
    "    scores=dict()\n",
    "    for doc_id in candidates[query_id]:\n",
    "        scores[doc_id]=(bm_score[query_id][doc_id]*alpha1+\n",
    "                        passage_score[query_id][doc_id]*alpha2+\n",
    "                        desm_score[query_id][doc_id]*alpha3)\n",
    "    scores=sorted(scores.items(),key=lambda x:-x[1])[:10]\n",
    "    ans=reduce(lambda ans,score:ans+str(query_id)+','+str(score[0])+'\\n',scores,ans)"
   ]
  },
  {
   "cell_type": "code",
   "execution_count": 0,
   "metadata": {
    "colab": {},
    "colab_type": "code",
    "id": "W4GBOy9D8eZb"
   },
   "outputs": [],
   "source": [
    "with open('ans.txt','w') as out:\n",
    "    out.write(ans)"
   ]
  }
 ],
 "metadata": {
  "accelerator": "GPU",
  "colab": {
   "name": "Final.ipynb",
   "provenance": []
  },
  "kernelspec": {
   "display_name": "Python 3",
   "language": "python",
   "name": "python3"
  },
  "language_info": {
   "codemirror_mode": {
    "name": "ipython",
    "version": 3
   },
   "file_extension": ".py",
   "mimetype": "text/x-python",
   "name": "python",
   "nbconvert_exporter": "python",
   "pygments_lexer": "ipython3",
   "version": "3.7.3"
  }
 },
 "nbformat": 4,
 "nbformat_minor": 1
}
