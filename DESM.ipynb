{
 "cells": [
  {
   "cell_type": "code",
   "execution_count": 0,
   "metadata": {
    "colab": {},
    "colab_type": "code",
    "id": "aIq9MoEc2Xsa"
   },
   "outputs": [],
   "source": [
    "%run Pre_ini.ipynb"
   ]
  },
  {
   "cell_type": "code",
   "execution_count": 0,
   "metadata": {
    "colab": {},
    "colab_type": "code",
    "id": "e35rwlCe2bLU"
   },
   "outputs": [],
   "source": [
    "with open('desm_fast.npy','rb') as f:\n",
    "    desm=np.load(f)"
   ]
  },
  {
   "cell_type": "code",
   "execution_count": 0,
   "metadata": {
    "colab": {},
    "colab_type": "code",
    "id": "ZeU3CanP3c98"
   },
   "outputs": [],
   "source": [
    "!sudo pip install --upgrade gensim\n",
    "import gensim"
   ]
  },
  {
   "cell_type": "code",
   "execution_count": 0,
   "metadata": {
    "colab": {},
    "colab_type": "code",
    "id": "_XNWJgs93dfp"
   },
   "outputs": [],
   "source": [
    "model=gensim.models.KeyedVectors.load(\"fast/model.model\")"
   ]
  },
  {
   "cell_type": "code",
   "execution_count": 0,
   "metadata": {
    "colab": {},
    "colab_type": "code",
    "id": "An7oPg8L1-lg"
   },
   "outputs": [],
   "source": [
    "with open('queries.fixed.txt','r') as f:\n",
    "    with open('Desm.txt','w') as out:\n",
    "        for line in f:\n",
    "            query_id=line.strip('\\n').split('\\t')[0]\n",
    "            query=get_query[int(query_id)].split()\n",
    "            Q=[]\n",
    "            for word in query:\n",
    "                word=add_cash(word)\n",
    "                if word in stopwords:\n",
    "                    continue\n",
    "                x=model[word]\n",
    "                Q.append(model[word])\n",
    "            Q=np.array(Q)\n",
    "            D=desm[candidates[int(query_id)]]\n",
    "\n",
    "            Q_len=np.sqrt((Q*Q).sum(axis=1))[None]\n",
    "            D_len=np.sqrt((D*D).sum(axis=1))[...,None]\n",
    "            \n",
    "            D_len[D_len==0]=1\n",
    "            Y=((D[...,None]*Q.T[None]).sum(axis=1)/Q_len/D_len).mean(axis=1)\n",
    "\n",
    "\n",
    "            out.write(query_id+'\\t')\n",
    "            for doc_id,score in zip(candidates[int(query_id)],Y) :\n",
    "                out.write(str(score)+','+str(doc_id))\n",
    "                out.write(' ')\n",
    "            out.write('\\n')"
   ]
  }
 ],
 "metadata": {
  "colab": {
   "name": "DESM.ipynb",
   "provenance": []
  },
  "kernelspec": {
   "display_name": "Python 3",
   "language": "python",
   "name": "python3"
  },
  "language_info": {
   "codemirror_mode": {
    "name": "ipython",
    "version": 3
   },
   "file_extension": ".py",
   "mimetype": "text/x-python",
   "name": "python",
   "nbconvert_exporter": "python",
   "pygments_lexer": "ipython3",
   "version": "3.7.3"
  }
 },
 "nbformat": 4,
 "nbformat_minor": 1
}
